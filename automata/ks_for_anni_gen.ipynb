{
 "cells": [
  {
   "cell_type": "code",
   "execution_count": 1,
   "metadata": {},
   "outputs": [],
   "source": [
    "from automata_rules import automata_output_list\n",
    "from cana.boolean_node import BooleanNode\n",
    "from cana.drawing.schema_vis import plot_schemata\n",
    "# from schema_search_tools import annihilation_generation_rules\n",
    "from cana.utils import fill_out_lut"
   ]
  },
  {
   "cell_type": "code",
   "execution_count": 3,
   "metadata": {},
   "outputs": [
    {
     "name": "stdout",
     "output_type": "stream",
     "text": [
      "Input symmetry: 1.7083333333333335\n",
      "Input symmetry mean: 1.7083333333333337\n"
     ]
    }
   ],
   "source": [
    "rule='GP'\n",
    "node = BooleanNode.from_output_list(automata_output_list[rule])\n",
    "node._check_compute_canalization_variables(ts_coverage=True)\n",
    "anni_gen = node.get_annihilation_generation_rules()\n",
    "print(f\"Input symmetry: {node.input_symmetry()}\")\n",
    "print(f\"Input symmetry mean: {node.input_symmetry_mean()}\")\n"
   ]
  },
  {
   "cell_type": "markdown",
   "metadata": {},
   "source": [
    "# code: input symmetry mean for annihilation and generation rules\n",
    "refactored into the BooleanNode class"
   ]
  },
  {
   "cell_type": "code",
   "execution_count": 8,
   "metadata": {},
   "outputs": [
    {
     "name": "stdout",
     "output_type": "stream",
     "text": [
      "Summand: 98.66666666666666\n",
      "Total coverage in LUT: 56\n",
      "Input symmetry mean anni_gen: 1.7619047619047616\n"
     ]
    }
   ],
   "source": [
    "rule='GP'\n",
    "node = BooleanNode.from_output_list(automata_output_list[rule])\n",
    "def input_symmetry_mean_anni_gen(node):\n",
    "    node._check_compute_canalization_variables(ts_coverage=True) # computing the ts_coverage if not already computed\n",
    "    \n",
    "    anni_gen = node.get_annihilation_generation_rules() # getting the annihilation generation rules for the node\n",
    "    anni_gen_coverage = [] # dict to store the rules covered in anni_gen\n",
    "    for key, value in fill_out_lut(anni_gen): # expanding anni_gen rules to get the rules covered in LUT\n",
    "        if value != '?':\n",
    "            anni_gen_coverage.append(key)\n",
    "\n",
    "    summand = 0 # summand for the mean of the number of input values that are not # if the rule is covered in two-symbol\n",
    "    for rule in anni_gen_coverage: # only iterating over the rules that are covered in anni_gen\n",
    "        inner = 0\n",
    "        for ts in node._ts_coverage[rule]:\n",
    "            inner += sum(\n",
    "                        len(i) for i in ts[1]\n",
    "                    )\n",
    "        summand += inner / len(node._ts_coverage[rule])\n",
    "    print(f\"Summand: {summand}\")\n",
    "    print(f\"Total coverage in LUT: {len(anni_gen_coverage)}\")\n",
    "\n",
    "    return summand/len(anni_gen_coverage) # returning the mean of the number of input values that are not # for all anni_gen rules\n",
    "\n",
    "print(f\"Input symmetry mean anni_gen: {input_symmetry_mean_anni_gen(node)}\")\n",
    "\n",
    "\n",
    "    \n",
    "\n"
   ]
  },
  {
   "cell_type": "code",
   "execution_count": 5,
   "metadata": {},
   "outputs": [
    {
     "name": "stdout",
     "output_type": "stream",
     "text": [
      "Rule: GKL\n",
      "Input symmetry: 1.6875\n",
      "Input symmetry mean: 1.6875\n",
      "Input symmetry mean anni_gen: 0.75\n",
      "\n",
      "Rule: GP\n",
      "Input symmetry: 1.7083333333333335\n",
      "Input symmetry mean: 1.7083333333333337\n",
      "Input symmetry mean anni_gen: 1.7619047619047616\n",
      "\n",
      "Rule: GEP_1\n",
      "Input symmetry: 0.984375\n",
      "Input symmetry mean: 0.984375\n",
      "Input symmetry mean anni_gen: 2.0\n",
      "\n",
      "Rule: GEP_2\n",
      "Input symmetry: 0.984375\n",
      "Input symmetry mean: 0.984375\n",
      "Input symmetry mean anni_gen: 2.0\n",
      "\n",
      "Rule: Das\n",
      "Input symmetry: 1.5338541666666667\n",
      "Input symmetry mean: 1.5338541666666663\n",
      "Input symmetry mean anni_gen: 2.528735632183908\n",
      "\n",
      "Rule: Davis\n",
      "Input symmetry: 0.7770833333333333\n",
      "Input symmetry mean: 0.7770833333333335\n",
      "Input symmetry mean anni_gen: 1.3590909090909093\n",
      "\n",
      "Rule: ABK\n",
      "Input symmetry: 1.7083333333333335\n",
      "Input symmetry mean: 1.7083333333333337\n",
      "Input symmetry mean anni_gen: 1.7619047619047616\n",
      "\n",
      "Rule: DMC\n",
      "Input symmetry: 1.7911427331349206\n",
      "Input symmetry mean: 1.7911427331349203\n",
      "Input symmetry mean anni_gen: 1.541812865497076\n",
      "\n",
      "Rule: COE_1\n",
      "Input symmetry: 1.9546533978174603\n",
      "Input symmetry mean: 1.9546533978174607\n",
      "Input symmetry mean anni_gen: 1.8775451559934317\n",
      "\n",
      "Rule: COE_2\n",
      "Input symmetry: 1.4994915674603173\n",
      "Input symmetry mean: 1.499491567460318\n",
      "Input symmetry mean anni_gen: 1.311943164362519\n",
      "\n",
      "Rule: MM401\n",
      "Input symmetry: 1.7760416666666665\n",
      "Input symmetry mean: 1.7760416666666663\n",
      "Input symmetry mean anni_gen: 0.8703703703703703\n",
      "\n"
     ]
    }
   ],
   "source": [
    "for rule in automata_output_list:\n",
    "    node = BooleanNode.from_output_list(automata_output_list[rule])\n",
    "    print(f\"Rule: {rule}\\nInput symmetry: {node.input_symmetry()}\")\n",
    "    print(f\"Input symmetry mean: {node.input_symmetry_mean()}\")\n",
    "    print(f\"Input symmetry mean anni_gen: {node.input_symmetry_mean_anni_gen()}\\n\")\n"
   ]
  }
 ],
 "metadata": {
  "kernelspec": {
   "display_name": ".venv",
   "language": "python",
   "name": "python3"
  },
  "language_info": {
   "codemirror_mode": {
    "name": "ipython",
    "version": 3
   },
   "file_extension": ".py",
   "mimetype": "text/x-python",
   "name": "python",
   "nbconvert_exporter": "python",
   "pygments_lexer": "ipython3",
   "version": "3.12.3"
  }
 },
 "nbformat": 4,
 "nbformat_minor": 2
}
