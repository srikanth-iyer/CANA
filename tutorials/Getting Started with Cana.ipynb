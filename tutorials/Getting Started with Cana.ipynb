{
 "cells": [
  {
   "cell_type": "markdown",
   "metadata": {},
   "source": [
    "# Getting Started with Cana\n",
    "\n",
    "This tutorial provides a basic introduction to the `cana` library. We will cover how to create a `BooleanNetwork` object, perform simple structural and dynamical analyses, and visualize the results."
   ]
  },
  {
   "cell_type": "markdown",
   "metadata": {},
   "source": [
    "## 1. Creating a BooleanNetwork\n",
    "\n",
    "First, let's import the necessary classes and functions."
   ]
  },
  {
   "cell_type": "code",
   "execution_count": null,
   "metadata": {},
   "outputs": [],
   "source": [
    "from cana.boolean_network import BooleanNetwork\n",
    "from cana.drawing import draw_dynamics_canalizing_map_graphviz"
   ]
  },
  {
   "cell_type": "markdown",
   "metadata": {},
   "source": [
    "Now, we'll define a simple 3-node network using a logic dictionary. The logic dictionary specifies the name, inputs, and output transitions for each node."
   ]
  },
  {
   "cell_type": "code",
   "execution_count": null,
   "metadata": {},
   "outputs": [],
   "source": [
    "logic = {\n",
    "    0: {'name': 'A', 'in': [1, 2], 'out': [0, 1, 1, 0]},\n",
    "    1: {'name': 'B', 'in': [0], 'out': [1, 0]},\n",
    "    2: {'name': 'C', 'in': [0, 1], 'out': [0, 0, 1, 1]}\n",
    "}\n",
    "\n",
    "bn = BooleanNetwork.from_dict(logic, name='My Simple Network')"
   ]
  },
  {
   "cell_type": "markdown",
   "metadata": {},
   "source": [
    "## 2. Basic Structural Analysis\n",
    "\n",
    "We can easily generate the structural graph of the network, which shows the relationships between the nodes."
   ]
  },
  {
   "cell_type": "code",
   "execution_count": null,
   "metadata": {},
   "outputs": [],
   "source": [
    "sg = bn.structural_graph()\n",
    "print(sg.edges())"
   ]
  },
  {
   "cell_type": "markdown",
   "metadata": {},
   "source": [
    "## 3. Basic Dynamical Analysis\n",
    "\n",
    "Finding the attractors of the network is a key part of dynamical analysis. We can do this using either the State Transition Graph (STG) or the SAT-based BNS method."
   ]
  },
  {
   "cell_type": "code",
   "execution_count": null,
   "metadata": {},
   "outputs": [],
   "source": [
    "# Find attractors using the STG\n",
    "attractors_stg = bn.attractors(mode='stg')\n",
    "print(f'Attractors (STG): {attractors_stg}')\n",
    "\n",
    "# Find attractors using BNS\n",
    "attractors_bns = bn.attractors(mode='bns')\n",
    "print(f'Attractors (BNS): {attractors_bns}')"
   ]
  },
  {
   "cell_type": "markdown",
   "metadata": {},
   "source": [
    "## 4. Simple Visualization\n",
    "\n",
    "While `cana` itself is not a visualization library, it provides the necessary data to use with other libraries like Graphviz. Here's how you can visualize the Dynamics Canalization Map (DCM)."
   ]
  },
  {
   "cell_type": "code",
   "execution_count": null,
   "metadata": {},
   "outputs": [],
   "source": [
    "dcm = bn.dynamics_canalization_map()\n",
    "view = draw_dynamics_canalizing_map_graphviz(dcm)\n",
    "view.render('dcm_visualization', view=True)"
   ]
  }
 ],
 "metadata": {
  "kernelspec": {
   "display_name": "Python 3",
   "language": "python",
   "name": "python3"
  },
  "language_info": {
   "codemirror_mode": {
    "name": "ipython",
    "version": 3
   },
   "file_extension": ".py",
   "mimetype": "text/x-python",
   "name": "python",
   "nbconvert_exporter": "python",
   "pygments_lexer": "ipython3",
   "version": "3.7.9"
  }
 },
 "nbformat": 4,
 "nbformat_minor": 4
}